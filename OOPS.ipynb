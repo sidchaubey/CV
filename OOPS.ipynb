{
  "nbformat": 4,
  "nbformat_minor": 0,
  "metadata": {
    "colab": {
      "name": "OOPS.ipynb",
      "provenance": [],
      "collapsed_sections": [],
      "authorship_tag": "ABX9TyNm2WZi+ZWFI1m7/p88DoQh",
      "include_colab_link": true
    },
    "kernelspec": {
      "name": "python3",
      "display_name": "Python 3"
    }
  },
  "cells": [
    {
      "cell_type": "markdown",
      "metadata": {
        "id": "view-in-github",
        "colab_type": "text"
      },
      "source": [
        "<a href=\"https://colab.research.google.com/github/sidchaubey/cv/blob/master/OOPS.ipynb\" target=\"_parent\"><img src=\"https://colab.research.google.com/assets/colab-badge.svg\" alt=\"Open In Colab\"/></a>"
      ]
    },
    {
      "cell_type": "markdown",
      "metadata": {
        "id": "xuWwNDWEV1G_"
      },
      "source": [
        "# Basics Of OOPS"
      ]
    },
    {
      "cell_type": "code",
      "metadata": {
        "colab": {
          "base_uri": "https://localhost:8080/"
        },
        "id": "sPNcMS_wSB7e",
        "outputId": "509f14fd-5459-4783-ae22-827ad3ed6436"
      },
      "source": [
        "class Employee:\r\n",
        "  pass\r\n",
        "\r\n",
        "\r\n",
        "emp1 = Employee()\r\n",
        "print(\"Directory of emp1 without defining name: \", dir(emp1))\r\n",
        "emp1.name = \"raj\"\r\n",
        "print(emp1)\r\n",
        "print(\"Directory of emp1 after defining name: \", dir(emp1))"
      ],
      "execution_count": 1,
      "outputs": [
        {
          "output_type": "stream",
          "text": [
            "Directory of emp1 without defining name:  ['__class__', '__delattr__', '__dict__', '__dir__', '__doc__', '__eq__', '__format__', '__ge__', '__getattribute__', '__gt__', '__hash__', '__init__', '__init_subclass__', '__le__', '__lt__', '__module__', '__ne__', '__new__', '__reduce__', '__reduce_ex__', '__repr__', '__setattr__', '__sizeof__', '__str__', '__subclasshook__', '__weakref__']\n",
            "<__main__.Employee object at 0x7f5dad307860>\n",
            "Directory of emp1 after defining name:  ['__class__', '__delattr__', '__dict__', '__dir__', '__doc__', '__eq__', '__format__', '__ge__', '__getattribute__', '__gt__', '__hash__', '__init__', '__init_subclass__', '__le__', '__lt__', '__module__', '__ne__', '__new__', '__reduce__', '__reduce_ex__', '__repr__', '__setattr__', '__sizeof__', '__str__', '__subclasshook__', '__weakref__', 'name']\n"
          ],
          "name": "stdout"
        }
      ]
    },
    {
      "cell_type": "code",
      "metadata": {
        "colab": {
          "base_uri": "https://localhost:8080/"
        },
        "id": "Mw4Jf1yLUxRg",
        "outputId": "afcf39d1-cb2a-44e3-ba77-932206e0b413"
      },
      "source": [
        "class Employee:\r\n",
        "  def get_name(self, name):\r\n",
        "    return name\r\n",
        "emp1 = Employee()\r\n",
        "name = emp1.get_name(\"Raj\")\r\n",
        "print(\"The employee name is: \", name)"
      ],
      "execution_count": 3,
      "outputs": [
        {
          "output_type": "stream",
          "text": [
            "The employee name is:  Raj\n"
          ],
          "name": "stdout"
        }
      ]
    },
    {
      "cell_type": "code",
      "metadata": {
        "colab": {
          "base_uri": "https://localhost:8080/"
        },
        "id": "fRGDrVxrW0FH",
        "outputId": "48071603-67bd-4d23-b4b7-5a562e7f6c26"
      },
      "source": [
        "class Employee:\r\n",
        "  def get_name(self, name):\r\n",
        "    self.name = name\r\n",
        "    return self.name\r\n",
        "  def formatted_return(self):\r\n",
        "    return f\"Hii {self.name}\"\r\n",
        "emp1 = Employee()\r\n",
        "name = emp1.get_name(\"Raj\")\r\n",
        "forn = emp1.formatted_return()\r\n",
        "print(\"The employee name is: \", name)\r\n",
        "print(forn)"
      ],
      "execution_count": 7,
      "outputs": [
        {
          "output_type": "stream",
          "text": [
            "The employee name is:  Raj\n",
            "Hii Raj\n"
          ],
          "name": "stdout"
        }
      ]
    },
    {
      "cell_type": "code",
      "metadata": {
        "colab": {
          "base_uri": "https://localhost:8080/"
        },
        "id": "fY-uFHlEXFs1",
        "outputId": "920b1e66-849c-4241-d67e-b5ad4cdf66d8"
      },
      "source": [
        "class Employee():\r\n",
        "  def __init__(self, name, salary=45000):\r\n",
        "    self.name = name\r\n",
        "    self.salary = salary\r\n",
        "  def return_formatted(self):\r\n",
        "    return f\"Hii {self.name} happy you joined your salary is $ {self.salary}\"\r\n",
        "\r\n",
        "em1 =  Employee(\"Rajiv\")\r\n",
        "print(em1.return_formatted())\r\n",
        "\r\n",
        "em2 = Employee(\"Hirandanai\", 100000)\r\n",
        "print(em2.return_formatted())"
      ],
      "execution_count": 13,
      "outputs": [
        {
          "output_type": "stream",
          "text": [
            "Hii Rajiv happy you joined your salary is $ 45000\n",
            "Hii Hirandanai happy you joined your salary is $ 100000\n"
          ],
          "name": "stdout"
        }
      ]
    },
    {
      "cell_type": "markdown",
      "metadata": {
        "id": "mwVVEisNZVCN"
      },
      "source": [
        "## class attribute\r\n",
        "* In below example BASE_SALARY is class attribute.\r\n",
        "* Class attribute is accessed inside code using syntax: classname.Attribute eg: Employee.BASE_SALARY"
      ]
    },
    {
      "cell_type": "code",
      "metadata": {
        "colab": {
          "base_uri": "https://localhost:8080/"
        },
        "id": "TAZ4PAqOYJJT",
        "outputId": "0ef212c6-d3da-4b74-ae07-35eb56d34b9c"
      },
      "source": [
        "class Employee():\r\n",
        "  BASE_SALARY=40000\r\n",
        "  def __init__(self, name, experience):\r\n",
        "    self.name = name\r\n",
        "    self.experience=experience\r\n",
        "    if self.experience<2:\r\n",
        "      salary = Employee.BASE_SALARY\r\n",
        "    elif self.experience>2 and self.experience<5:\r\n",
        "      salary = (Employee.BASE_SALARY+(Employee.BASE_SALARY*0.25))\r\n",
        "\r\n",
        "  def check_exp(self):\r\n",
        "    if self.experience>0 and self.experience<2:\r\n",
        "      self.salary = Employee.BASE_SALARY\r\n",
        "    elif self.experience>=2 and self.experience<5:\r\n",
        "      self.salary = (Employee.BASE_SALARY+(Employee.BASE_SALARY*0.25))\r\n",
        "    elif self.experience<0:\r\n",
        "      self.salary=-1\r\n",
        "\r\n",
        "    return self.salary\r\n",
        "\r\n",
        "  def return_formatted(self):\r\n",
        "    if self.salary>0:\r\n",
        "      return f\"Hii {self.name} happy you joined your salary is $ {self.salary}\"\r\n",
        "    else:\r\n",
        "      return f\"Please Enter right number of Experience\"\r\n",
        "\r\n",
        "em1 =  Employee(\"Rajiv\", -100)\r\n",
        "em1.check_exp()\r\n",
        "print(em1.return_formatted())\r\n",
        "\r\n",
        "# em2 = Employee(\"Hirandanai\", 100000)\r\n",
        "# print(em2.return_formatted())"
      ],
      "execution_count": 32,
      "outputs": [
        {
          "output_type": "stream",
          "text": [
            "Please Enter right number of Experience\n"
          ],
          "name": "stdout"
        }
      ]
    },
    {
      "cell_type": "markdown",
      "metadata": {
        "id": "2LaPdCgqfCTT"
      },
      "source": [
        "## class Method\r\n"
      ]
    },
    {
      "cell_type": "code",
      "metadata": {
        "colab": {
          "base_uri": "https://localhost:8080/"
        },
        "id": "LX0yjxDHjsaI",
        "outputId": "6c7a6231-dc0c-43c5-a7d0-cefce3117566"
      },
      "source": [
        "class BetterDate:    \r\n",
        "    # Constructor\r\n",
        "    def __init__(self, year, month, day):\r\n",
        "      # Recall that Python allows multiple variable assignments in one line\r\n",
        "      self.year, self.month, self.day = year, month, day\r\n",
        "    \r\n",
        "    # Define a class method from_str\r\n",
        "    @classmethod\r\n",
        "    def from_str(cls, datestr):\r\n",
        "        # Split the string at \"-\" and convert each part to integer\r\n",
        "        parts = datestr.split(\"-\")\r\n",
        "        year, month, day = int(parts[0]), int(parts[1]), int(parts[2])\r\n",
        "        # Return the class instance\r\n",
        "        return cls(year, month, day)\r\n",
        "        \r\n",
        "bd = BetterDate.from_str('2020-04-30')   \r\n",
        "print(bd.year)\r\n",
        "print(bd.month)\r\n",
        "print(bd.day)"
      ],
      "execution_count": 44,
      "outputs": [
        {
          "output_type": "stream",
          "text": [
            "2020\n",
            "4\n",
            "30\n"
          ],
          "name": "stdout"
        }
      ]
    },
    {
      "cell_type": "code",
      "metadata": {
        "colab": {
          "base_uri": "https://localhost:8080/"
        },
        "id": "JSybQBz2fBki",
        "outputId": "ec377cd7-195e-4722-8ab7-3049454c5afa"
      },
      "source": [
        "# import datetime from datetime\r\n",
        "from datetime import datetime\r\n",
        "\r\n",
        "class BetterDate:\r\n",
        "    def __init__(self, year, month, day):\r\n",
        "      self.year, self.month, self.day = year, month, day\r\n",
        "      \r\n",
        "    @classmethod\r\n",
        "    def from_str(cls, datestr):\r\n",
        "        year, month, day = map(int, datestr.split(\"-\"))\r\n",
        "        return cls(year, month, day)\r\n",
        "      \r\n",
        "    # Define a class method from_datetime accepting a datetime object\r\n",
        "    @classmethod\r\n",
        "    def from_datetime(cls, datetime):\r\n",
        "      return cls(datetime.year, datetime.month, datetime.day)\r\n",
        "\r\n",
        "# You should be able to run the code below with no errors: \r\n",
        "today = datetime.today()     \r\n",
        "bd = BetterDate.from_datetime(today)   \r\n",
        "print(bd.year)\r\n",
        "print(bd.month)\r\n",
        "print(bd.day)"
      ],
      "execution_count": 43,
      "outputs": [
        {
          "output_type": "stream",
          "text": [
            "2021\n",
            "1\n",
            "5\n"
          ],
          "name": "stdout"
        }
      ]
    },
    {
      "cell_type": "markdown",
      "metadata": {
        "id": "OD28AyKZPgeB"
      },
      "source": [
        "## Inheritance"
      ]
    },
    {
      "cell_type": "code",
      "metadata": {
        "colab": {
          "base_uri": "https://localhost:8080/"
        },
        "id": "YblB4Lrjb20N",
        "outputId": "67ac01ba-b8af-480d-b137-9976f80d5bda"
      },
      "source": [
        "class Employee:\r\n",
        "  MIN_SALARY = 30000    \r\n",
        "\r\n",
        "  def __init__(self, name, salary=MIN_SALARY):\r\n",
        "      self.name = name\r\n",
        "      if salary >= Employee.MIN_SALARY:\r\n",
        "        self.salary = salary\r\n",
        "      else:\r\n",
        "        self.salary = Employee.MIN_SALARY\r\n",
        "        \r\n",
        "  def give_raise(self, amount):\r\n",
        "      self.salary += amount      \r\n",
        "        \r\n",
        "# Define a new class Manager inheriting from Employee\r\n",
        "class Manager(Employee):\r\n",
        "  pass\r\n",
        "\r\n",
        "# Define a Manager object\r\n",
        "mng = Manager(\"Debbie Lashko\", 86500)\r\n",
        "\r\n",
        "# Print mng's name\r\n",
        "print(mng.name)\r\n"
      ],
      "execution_count": 1,
      "outputs": [
        {
          "output_type": "stream",
          "text": [
            "Debbie Lashko\n"
          ],
          "name": "stdout"
        }
      ]
    },
    {
      "cell_type": "code",
      "metadata": {
        "colab": {
          "base_uri": "https://localhost:8080/"
        },
        "id": "3JCovBFBPkmW",
        "outputId": "e15c6c6c-25e1-4a89-d616-b33575456add"
      },
      "source": [
        "class Employee:\r\n",
        "  MIN_SALARY = 30000    \r\n",
        "\r\n",
        "  def __init__(self, name, salary=MIN_SALARY):\r\n",
        "      self.name = name\r\n",
        "      if salary >= Employee.MIN_SALARY:\r\n",
        "        self.salary = salary\r\n",
        "      else:\r\n",
        "        self.salary = Employee.MIN_SALARY\r\n",
        "  def give_raise(self, amount):\r\n",
        "    self.salary += amount      \r\n",
        "        \r\n",
        "# MODIFY Manager class and add a display method\r\n",
        "class Manager(Employee):\r\n",
        "  def display(self):\r\n",
        "    print(\"Manager\",self.name)\r\n",
        "\r\n",
        "mng = Manager(\"Debbie Lashko\", 86500)\r\n",
        "print(mng.name)\r\n",
        "\r\n",
        "# Call mng.display()\r\n",
        "mng.display()"
      ],
      "execution_count": 2,
      "outputs": [
        {
          "output_type": "stream",
          "text": [
            "Debbie Lashko\n",
            "Manager Debbie Lashko\n"
          ],
          "name": "stdout"
        }
      ]
    },
    {
      "cell_type": "code",
      "metadata": {
        "id": "yXZV3KbgQZVl"
      },
      "source": [
        "class Employee:\r\n",
        "    def __init__(self, name, salary=30000):\r\n",
        "        self.name = name\r\n",
        "        self.salary = salary\r\n",
        "\r\n",
        "    def give_raise(self, amount):\r\n",
        "        self.salary += amount\r\n",
        "\r\n",
        "        \r\n",
        "class Manager(Employee):\r\n",
        "  # Add a constructor \r\n",
        "    def __init__(self, name, salary=50000, project=None):\r\n",
        "\r\n",
        "        # Call the parent's constructor   \r\n",
        "        Employee.__init__(self, name, salary)\r\n",
        "\r\n",
        "        # Assign project attribute\r\n",
        "        self.project = project  \r\n",
        "\r\n",
        "  \r\n",
        "    def display(self):\r\n",
        "        print(\"Manager \", self.name)\r\n",
        " "
      ],
      "execution_count": 4,
      "outputs": []
    },
    {
      "cell_type": "code",
      "metadata": {
        "colab": {
          "base_uri": "https://localhost:8080/"
        },
        "id": "6p5Pz_lEXZp1",
        "outputId": "27e343d3-1265-4262-dacf-19d44ea98b54"
      },
      "source": [
        "class Employee:\r\n",
        "    def __init__(self, name, salary=30000):\r\n",
        "        self.name = name\r\n",
        "        self.salary = salary\r\n",
        "\r\n",
        "    def give_raise(self, amount):\r\n",
        "        self.salary += amount\r\n",
        "\r\n",
        "        \r\n",
        "class Manager(Employee):\r\n",
        "    def display(self):\r\n",
        "        print(\"Manager \", self.name)\r\n",
        "\r\n",
        "    def __init__(self, name, salary=50000, project=None):\r\n",
        "        Employee.__init__(self, name, salary)\r\n",
        "        self.project = project\r\n",
        "\r\n",
        "    # Add a give_raise method\r\n",
        "    def give_raise(self, amount, bonus=1.05):\r\n",
        "        # self.bonus = bonus\r\n",
        "        Employee.give_raise(self, amount*bonus)\r\n",
        "    \r\n",
        "    \r\n",
        "mngr = Manager(\"Ashta Dunbar\", 78500)\r\n",
        "mngr.give_raise(1000)\r\n",
        "print(mngr.salary)\r\n",
        "mngr.give_raise(2000, bonus=1.03)\r\n",
        "print(mngr.salary)"
      ],
      "execution_count": 1,
      "outputs": [
        {
          "output_type": "stream",
          "text": [
            "79550.0\n",
            "81610.0\n"
          ],
          "name": "stdout"
        }
      ]
    },
    {
      "cell_type": "code",
      "metadata": {
        "id": "mO6CY6wP4EjK"
      },
      "source": [
        ""
      ],
      "execution_count": null,
      "outputs": []
    }
  ]
}